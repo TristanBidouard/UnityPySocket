{
 "cells": [
  {
   "cell_type": "markdown",
   "metadata": {},
   "source": [
    "# Reinforcement learning for a robot arm using TensorFlow\n",
    "\n",
    "The main goal of this project is to allow a robot arm to learn by itself how to press a red button.\n",
    "\n",
    "An Unity environement was created to simulate the robot and his environement.\n",
    "\n",
    "![title](Presentation/Environement.png)\n",
    "\n",
    "## Installation \n",
    "\n",
    "### Dependencies\n",
    "\n",
    "+ TensorFlow\n",
    "+ Numpy\n",
    "+ PIL\n",
    "+ Matplotlib\n",
    "\n",
    "### Clone GitLab environement\n",
    "\n",
    "In your \n",
    "`git clone https://gitlab.com/RoboAcademy/UnityPySocket`\n",
    "\n",
    "## Usage\n",
    "\n",
    "### Launch the script\n",
    "\n",
    "From `(you)`\n",
    "\n"
   ]
  }
 ],
 "metadata": {
  "kernelspec": {
   "display_name": "Python 3",
   "language": "python",
   "name": "python3"
  },
  "language_info": {
   "codemirror_mode": {
    "name": "ipython",
    "version": 3
   },
   "file_extension": ".py",
   "mimetype": "text/x-python",
   "name": "python",
   "nbconvert_exporter": "python",
   "pygments_lexer": "ipython3",
   "version": "3.6.2"
  }
 },
 "nbformat": 4,
 "nbformat_minor": 2
}
